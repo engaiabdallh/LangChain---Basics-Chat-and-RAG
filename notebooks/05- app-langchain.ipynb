{
 "cells": [
  {
   "cell_type": "code",
   "execution_count": 1,
   "metadata": {},
   "outputs": [],
   "source": [
    "import os\n",
    "from dotenv import load_dotenv\n",
    "\n",
    "# Load .env file\n",
    "_ = load_dotenv(override=True)\n",
    "OPENAI_API_KEY = os.getenv('OPENAI_API_KEY')"
   ]
  },
  {
   "cell_type": "code",
   "execution_count": null,
   "metadata": {},
   "outputs": [],
   "source": [
    "from langchain_openai import ChatOpenAI\n",
    "from langchain.schema import SystemMessage\n",
    "from langchain.chains import LLMChain\n",
    "from langchain.prompts import ChatPromptTemplate, HumanMessagePromptTemplate"
   ]
  },
  {
   "cell_type": "code",
   "execution_count": 3,
   "metadata": {},
   "outputs": [
    {
     "name": "stderr",
     "output_type": "stream",
     "text": [
      "C:\\Users\\moham\\AppData\\Local\\Temp\\ipykernel_12272\\2952614100.py:14: LangChainDeprecationWarning: The class `LLMChain` was deprecated in LangChain 0.1.17 and will be removed in 1.0. Use RunnableSequence, e.g., `prompt | llm` instead.\n",
      "  chain = LLMChain(\n"
     ]
    },
    {
     "name": "stdout",
     "output_type": "stream",
     "text": [
      "{'content': 'do you know Andrej Karpahty', 'text': 'نعم، أندريه كارباثي هو عالم في مجال الذكاء الاصطناعي ومهندس برمجيات معروف، وقد شغل مناصب في شركات مثل تسلا وOpenAI. له مساهمات كبيرة في مجال التعلم العميق ورؤية الحاسوب. إذا كان لديك سؤال محدد عنه، فلا تتردد في طرحه!'}\n",
      "--------------------------------------------------\n",
      "Goodbye!\n"
     ]
    }
   ],
   "source": [
    "# LLM\n",
    "llm = ChatOpenAI(model_name='gpt-4o-mini', temperature=1)\n",
    "\n",
    "# Chat Template\n",
    "prompt = ChatPromptTemplate(\n",
    "    input_variables=['content'],\n",
    "    messages=[\n",
    "        SystemMessage(content='You respond only in Arabic.'),\n",
    "        HumanMessagePromptTemplate.from_template(\"{content}\")\n",
    "    ]\n",
    ")\n",
    "\n",
    "# Chain\n",
    "chain = LLMChain(\n",
    "    llm=llm,\n",
    "    prompt=prompt,\n",
    "    verbose=False\n",
    ")\n",
    "\n",
    "\n",
    "# Looping\n",
    "while True:\n",
    "    content = input('Your prompt: ')\n",
    "    if content.lower() in ['quit', 'exit', 'bye']:\n",
    "        print('Goodbye!')\n",
    "        break\n",
    "\n",
    "    response = chain.invoke({'content': content})\n",
    "    print(response)\n",
    "    print('-' * 50)"
   ]
  },
  {
   "cell_type": "markdown",
   "metadata": {},
   "source": [
    "* `Adding Memory`"
   ]
  },
  {
   "cell_type": "code",
   "execution_count": 4,
   "metadata": {},
   "outputs": [],
   "source": [
    "from langchain_openai import ChatOpenAI\n",
    "from langchain.schema import SystemMessage\n",
    "from langchain.chains import LLMChain\n",
    "from langchain.prompts import ChatPromptTemplate, HumanMessagePromptTemplate, MessagesPlaceholder\n",
    "from langchain.memory import ConversationBufferMemory, FileChatMessageHistory"
   ]
  },
  {
   "cell_type": "code",
   "execution_count": 5,
   "metadata": {},
   "outputs": [
    {
     "name": "stdout",
     "output_type": "stream",
     "text": [
      "{'content': 'hi', 'chat_history': [HumanMessage(content='hi'), AIMessage(content='Hello! How can I assist you today?')], 'text': 'Hello! How can I assist you today?'}\n",
      "--------------------------------------------------\n",
      "{'content': 'do u know geoffry hinton', 'chat_history': [HumanMessage(content='hi'), AIMessage(content='Hello! How can I assist you today?'), HumanMessage(content='do u know geoffry hinton'), AIMessage(content='Yes, Geoffrey Hinton is a prominent figure in the field of artificial intelligence and machine learning. He is often referred to as one of the \"Godfathers of Deep Learning\" due to his significant contributions to neural networks and deep learning techniques. Hinton has been influential in developing algorithms such as backpropagation, which is foundational for training deep neural networks. He has also worked on various applications of AI and has been involved in both academia and industry. If you have specific questions about him or his work, feel free to ask!')], 'text': 'Yes, Geoffrey Hinton is a prominent figure in the field of artificial intelligence and machine learning. He is often referred to as one of the \"Godfathers of Deep Learning\" due to his significant contributions to neural networks and deep learning techniques. Hinton has been influential in developing algorithms such as backpropagation, which is foundational for training deep neural networks. He has also worked on various applications of AI and has been involved in both academia and industry. If you have specific questions about him or his work, feel free to ask!'}\n",
      "--------------------------------------------------\n",
      "{'content': 'when did he born?', 'chat_history': [HumanMessage(content='hi'), AIMessage(content='Hello! How can I assist you today?'), HumanMessage(content='do u know geoffry hinton'), AIMessage(content='Yes, Geoffrey Hinton is a prominent figure in the field of artificial intelligence and machine learning. He is often referred to as one of the \"Godfathers of Deep Learning\" due to his significant contributions to neural networks and deep learning techniques. Hinton has been influential in developing algorithms such as backpropagation, which is foundational for training deep neural networks. He has also worked on various applications of AI and has been involved in both academia and industry. If you have specific questions about him or his work, feel free to ask!'), HumanMessage(content='when did he born?'), AIMessage(content='Geoffrey Hinton was born on March 6, 1947. If you have any more questions about him or his work, feel free to ask!')], 'text': 'Geoffrey Hinton was born on March 6, 1947. If you have any more questions about him or his work, feel free to ask!'}\n",
      "--------------------------------------------------\n",
      "Goodbye!\n"
     ]
    }
   ],
   "source": [
    "# LLM\n",
    "llm = ChatOpenAI(model_name='gpt-4o-mini', temperature=1)\n",
    "\n",
    "# Create memory \n",
    "memory = ConversationBufferMemory(\n",
    "    memory_key='chat_history',\n",
    "    return_messages=True\n",
    ")\n",
    "\n",
    "# Add  MessagesPlaceholder(variable_name='messages') to the prompt\n",
    "prompt = ChatPromptTemplate(\n",
    "    input_variables=['content', 'chat_history'],\n",
    "    messages=[\n",
    "        SystemMessage(content=\"You are a chatbot having a conversation with a human.\"),\n",
    "        MessagesPlaceholder(variable_name='chat_history'),\n",
    "        HumanMessagePromptTemplate.from_template(\"{content}\")\n",
    "    ]\n",
    ")\n",
    "\n",
    "# Add the memory to the chain\n",
    "chain = LLMChain(\n",
    "    llm=llm,\n",
    "    prompt=prompt,\n",
    "    memory=memory,\n",
    "    verbose=False\n",
    ")\n",
    "\n",
    "# Looping\n",
    "while True:\n",
    "    content = input('Your prompt: ')\n",
    "    if content.lower() in ['quit', 'exit', 'bye']:\n",
    "        print('Goodbye!')\n",
    "        break\n",
    "    \n",
    "    response = chain.invoke({'content': content})\n",
    "    print(response)\n",
    "    print('-' * 50)\n",
    "    "
   ]
  },
  {
   "cell_type": "markdown",
   "metadata": {},
   "source": [
    "* `Saving Chat Sessions`"
   ]
  },
  {
   "cell_type": "code",
   "execution_count": 8,
   "metadata": {},
   "outputs": [
    {
     "name": "stdout",
     "output_type": "stream",
     "text": [
      "{'content': 'hi, my name is hamody', 'chat_history': [HumanMessage(content='hi, my name is mohammed'), AIMessage(content=\"Hi Mohammed! It's great to meet you. How can I assist you today?\"), HumanMessage(content='do u know geoffery hinton?'), AIMessage(content='Yes, Geoffrey Hinton is a prominent figure in the field of artificial intelligence and machine learning. He is known for his work on neural networks and deep learning, and he has made significant contributions to the development of algorithms that underpin many modern AI systems. Hinton has also been involved in research on the theory of learning and cognitive psychology. Is there something specific you would like to know about him?'), HumanMessage(content='when did he born?'), AIMessage(content='Geoffrey Hinton was born on July 6, 1947. If you have any other questions about him or his work, feel free to ask!')], 'text': 'Hi Hamody! Nice to meet you. How can I help you today?'}\n",
      "--------------------------------------------------\n",
      "{'content': 'do u know geoffey hinton', 'chat_history': [HumanMessage(content='hi, my name is mohammed'), AIMessage(content=\"Hi Mohammed! It's great to meet you. How can I assist you today?\"), HumanMessage(content='do u know geoffery hinton?'), AIMessage(content='Yes, Geoffrey Hinton is a prominent figure in the field of artificial intelligence and machine learning. He is known for his work on neural networks and deep learning, and he has made significant contributions to the development of algorithms that underpin many modern AI systems. Hinton has also been involved in research on the theory of learning and cognitive psychology. Is there something specific you would like to know about him?'), HumanMessage(content='when did he born?'), AIMessage(content='Geoffrey Hinton was born on July 6, 1947. If you have any other questions about him or his work, feel free to ask!'), HumanMessage(content='hi, my name is hamody'), AIMessage(content='Hi Hamody! Nice to meet you. How can I help you today?')], 'text': 'Yes, I know about Geoffrey Hinton! He is a renowned computer scientist and a pioneer in the field of artificial intelligence, particularly known for his work on neural networks and deep learning. His research has significantly influenced many AI applications today. Is there something specific you would like to know about him?'}\n",
      "--------------------------------------------------\n",
      "{'content': 'when did he born, and where', 'chat_history': [HumanMessage(content='hi, my name is mohammed'), AIMessage(content=\"Hi Mohammed! It's great to meet you. How can I assist you today?\"), HumanMessage(content='do u know geoffery hinton?'), AIMessage(content='Yes, Geoffrey Hinton is a prominent figure in the field of artificial intelligence and machine learning. He is known for his work on neural networks and deep learning, and he has made significant contributions to the development of algorithms that underpin many modern AI systems. Hinton has also been involved in research on the theory of learning and cognitive psychology. Is there something specific you would like to know about him?'), HumanMessage(content='when did he born?'), AIMessage(content='Geoffrey Hinton was born on July 6, 1947. If you have any other questions about him or his work, feel free to ask!'), HumanMessage(content='hi, my name is hamody'), AIMessage(content='Hi Hamody! Nice to meet you. How can I help you today?'), HumanMessage(content='do u know geoffey hinton'), AIMessage(content='Yes, I know about Geoffrey Hinton! He is a renowned computer scientist and a pioneer in the field of artificial intelligence, particularly known for his work on neural networks and deep learning. His research has significantly influenced many AI applications today. Is there something specific you would like to know about him?')], 'text': 'Geoffrey Hinton was born on July 6, 1947, in Wimbledon, London, England. If you have more questions about him or his work, feel free to ask!'}\n",
      "--------------------------------------------------\n",
      "Goodbye!\n"
     ]
    }
   ],
   "source": [
    "# LLM\n",
    "llm = ChatOpenAI(model_name='gpt-4o-mini', temperature=1)\n",
    "\n",
    "# Create memory \n",
    "history = FileChatMessageHistory('chat_history.json')\n",
    "memory = ConversationBufferMemory(\n",
    "    memory_key='chat_history',\n",
    "    chat_memory=history,\n",
    "    return_messages=True\n",
    ")\n",
    "\n",
    "# Add MessagesPlaceholder(variable_name='messages') to the prompt\n",
    "prompt = ChatPromptTemplate(\n",
    "    input_variables=['content', 'chat_history'],\n",
    "    messages=[\n",
    "        SystemMessage(content=\"You are a chatbot having a conversation with a human.\"),\n",
    "        MessagesPlaceholder(variable_name='chat_history'),\n",
    "        HumanMessagePromptTemplate.from_template(\"{content}\")\n",
    "    ]\n",
    ")\n",
    "\n",
    "# Add the memory to the chain\n",
    "chain = LLMChain(\n",
    "    llm=llm,\n",
    "    prompt=prompt,\n",
    "    memory=memory,\n",
    "    verbose=False\n",
    ")\n",
    "\n",
    "# Looping\n",
    "while True:\n",
    "    content = input('Your prompt: ')\n",
    "    if content.lower() in ['quit', 'exit', 'bye']:\n",
    "        print('Goodbye!')\n",
    "        break\n",
    "    \n",
    "    response = chain.invoke({'content': content})\n",
    "    print(response)\n",
    "    print('-' * 50)"
   ]
  },
  {
   "cell_type": "code",
   "execution_count": 9,
   "metadata": {},
   "outputs": [
    {
     "data": {
      "text/plain": [
       "[HumanMessage(content='hi, my name is mohammed'),\n",
       " AIMessage(content=\"Hi Mohammed! It's great to meet you. How can I assist you today?\"),\n",
       " HumanMessage(content='do u know geoffery hinton?'),\n",
       " AIMessage(content='Yes, Geoffrey Hinton is a prominent figure in the field of artificial intelligence and machine learning. He is known for his work on neural networks and deep learning, and he has made significant contributions to the development of algorithms that underpin many modern AI systems. Hinton has also been involved in research on the theory of learning and cognitive psychology. Is there something specific you would like to know about him?'),\n",
       " HumanMessage(content='when did he born?'),\n",
       " AIMessage(content='Geoffrey Hinton was born on July 6, 1947. If you have any other questions about him or his work, feel free to ask!'),\n",
       " HumanMessage(content='hi, my name is hamody'),\n",
       " AIMessage(content='Hi Hamody! Nice to meet you. How can I help you today?'),\n",
       " HumanMessage(content='do u know geoffey hinton'),\n",
       " AIMessage(content='Yes, I know about Geoffrey Hinton! He is a renowned computer scientist and a pioneer in the field of artificial intelligence, particularly known for his work on neural networks and deep learning. His research has significantly influenced many AI applications today. Is there something specific you would like to know about him?'),\n",
       " HumanMessage(content='when did he born, and where'),\n",
       " AIMessage(content='Geoffrey Hinton was born on July 6, 1947, in Wimbledon, London, England. If you have more questions about him or his work, feel free to ask!')]"
      ]
     },
     "execution_count": 9,
     "metadata": {},
     "output_type": "execute_result"
    }
   ],
   "source": [
    "# Messges from History\n",
    "history.messages"
   ]
  },
  {
   "cell_type": "markdown",
   "metadata": {},
   "source": [
    "----"
   ]
  }
 ],
 "metadata": {
  "kernelspec": {
   "display_name": "depi2",
   "language": "python",
   "name": "python3"
  },
  "language_info": {
   "codemirror_mode": {
    "name": "ipython",
    "version": 3
   },
   "file_extension": ".py",
   "mimetype": "text/x-python",
   "name": "python",
   "nbconvert_exporter": "python",
   "pygments_lexer": "ipython3",
   "version": "3.10.9"
  }
 },
 "nbformat": 4,
 "nbformat_minor": 2
}
